{
 "cells": [
  {
   "cell_type": "markdown",
   "id": "47d1a442",
   "metadata": {},
   "source": [
    "# EXERCISES:"
   ]
  },
  {
   "cell_type": "markdown",
   "id": "6421b3a2",
   "metadata": {},
   "source": [
    "Answer the questions or complete the tasks outlined in bold below, use the specifi c methoddescribed if applicable."
   ]
  },
  {
   "cell_type": "markdown",
   "id": "2a917b35",
   "metadata": {},
   "source": [
    "** What is 7 to the power of 4?**\n"
   ]
  },
  {
   "cell_type": "code",
   "execution_count": 2,
   "id": "a6109634",
   "metadata": {},
   "outputs": [
    {
     "data": {
      "text/plain": [
       "2401"
      ]
     },
     "execution_count": 2,
     "metadata": {},
     "output_type": "execute_result"
    }
   ],
   "source": [
    "7**4\n"
   ]
  },
  {
   "cell_type": "markdown",
   "id": "adc853a9",
   "metadata": {},
   "source": [
    "** Split this string:**"
   ]
  },
  {
   "cell_type": "code",
   "execution_count": 3,
   "id": "efc5bbfc",
   "metadata": {},
   "outputs": [],
   "source": [
    "s = \"Hi there Sam!\""
   ]
  },
  {
   "cell_type": "markdown",
   "id": "69145427",
   "metadata": {},
   "source": [
    "*\n",
    "into a list. *"
   ]
  },
  {
   "cell_type": "code",
   "execution_count": 4,
   "id": "4aacef34",
   "metadata": {},
   "outputs": [],
   "source": [
    "s ='Hi there Sam!'"
   ]
  },
  {
   "cell_type": "code",
   "execution_count": 5,
   "id": "3d80120b",
   "metadata": {},
   "outputs": [
    {
     "data": {
      "text/plain": [
       "['Hi', 'there', 'Sam!']"
      ]
     },
     "execution_count": 5,
     "metadata": {},
     "output_type": "execute_result"
    }
   ],
   "source": [
    "s.split()"
   ]
  },
  {
   "cell_type": "markdown",
   "id": "4202ad59",
   "metadata": {},
   "source": [
    "** Given the variables:**"
   ]
  },
  {
   "cell_type": "code",
   "execution_count": 6,
   "id": "df9e1f89",
   "metadata": {},
   "outputs": [],
   "source": [
    "planet = \"Earth\"\n",
    "diameter = 12742"
   ]
  },
  {
   "cell_type": "markdown",
   "id": "96db3dc4",
   "metadata": {},
   "source": [
    "** Use .format() to print the following string: **"
   ]
  },
  {
   "cell_type": "markdown",
   "id": "b337383d",
   "metadata": {},
   "source": [
    "The diameter of Earth is 12742 kilometers."
   ]
  },
  {
   "cell_type": "code",
   "execution_count": 7,
   "id": "e93e487a",
   "metadata": {},
   "outputs": [],
   "source": [
    "planet =\"Earth\"\n",
    "diameter =12742"
   ]
  },
  {
   "cell_type": "code",
   "execution_count": 8,
   "id": "aae5dfa8",
   "metadata": {},
   "outputs": [
    {
     "data": {
      "text/plain": [
       "'The diameter of Earth is 12742 kilometers.'"
      ]
     },
     "execution_count": 8,
     "metadata": {},
     "output_type": "execute_result"
    }
   ],
   "source": [
    "print\n",
    "(\"The diameter of {} is {} kilometers.\".format(planet,diameter))"
   ]
  },
  {
   "cell_type": "markdown",
   "id": "e9f98038",
   "metadata": {},
   "source": [
    "** Given this nested list, use indexing to grab the word \"hello\" **"
   ]
  },
  {
   "cell_type": "code",
   "execution_count": 9,
   "id": "351d9b44",
   "metadata": {},
   "outputs": [],
   "source": [
    "lst = [1,2,[3,4],[5,[100,200,['hello']],23,11],1,7]"
   ]
  },
  {
   "cell_type": "code",
   "execution_count": 10,
   "id": "309b49fe",
   "metadata": {},
   "outputs": [
    {
     "data": {
      "text/plain": [
       "'hello'"
      ]
     },
     "execution_count": 10,
     "metadata": {},
     "output_type": "execute_result"
    }
   ],
   "source": [
    "lst[3][1][2][0]"
   ]
  },
  {
   "cell_type": "markdown",
   "id": "ec9bb989",
   "metadata": {},
   "source": [
    "** Given this nest dictionary grab the word \"hello\". Be prepared, this will be annoying/tricky **"
   ]
  },
  {
   "cell_type": "code",
   "execution_count": 11,
   "id": "41a73aa1",
   "metadata": {},
   "outputs": [],
   "source": [
    "d = {'k1':[1,2,3,{'tricky':['oh','man','inception',{'target':[1,2,3,'hello']}]}]}"
   ]
  },
  {
   "cell_type": "code",
   "execution_count": 12,
   "id": "c0d84de6",
   "metadata": {},
   "outputs": [
    {
     "data": {
      "text/plain": [
       "'hello'"
      ]
     },
     "execution_count": 12,
     "metadata": {},
     "output_type": "execute_result"
    }
   ],
   "source": [
    "d['k1'][3]['tricky'][3]['target'][3]"
   ]
  },
  {
   "cell_type": "markdown",
   "id": "63135fd7",
   "metadata": {},
   "source": [
    "** What is the main difference between a tuple and a list? **"
   ]
  },
  {
   "cell_type": "markdown",
   "id": "1d9f4a71",
   "metadata": {},
   "source": [
    "# Tuple is immutable"
   ]
  },
  {
   "cell_type": "markdown",
   "id": "01c7787b",
   "metadata": {},
   "source": [
    "** Create a function that grabs the email website domain from a string in the form: **"
   ]
  },
  {
   "cell_type": "markdown",
   "id": "f5c02d92",
   "metadata": {},
   "source": [
    "user@domain.com"
   ]
  },
  {
   "cell_type": "markdown",
   "id": "9a4d2076",
   "metadata": {},
   "source": [
    "# So for example, passing \"user@domain.com\" would return: domain.com"
   ]
  },
  {
   "cell_type": "code",
   "execution_count": 15,
   "id": "f4502924",
   "metadata": {},
   "outputs": [],
   "source": [
    "def domainGet(email):\n",
    "    return email.split('@')[-1]"
   ]
  },
  {
   "cell_type": "code",
   "execution_count": 16,
   "id": "e508440c",
   "metadata": {},
   "outputs": [
    {
     "data": {
      "text/plain": [
       "'domain.com'"
      ]
     },
     "execution_count": 16,
     "metadata": {},
     "output_type": "execute_result"
    }
   ],
   "source": [
    "domainGet('user@domain.com')"
   ]
  },
  {
   "cell_type": "markdown",
   "id": "d571f833",
   "metadata": {},
   "source": [
    "** Create a basic function that returns True if the word 'dog' is contained in the input string. Don't\n",
    "worry about edge cases like a punctuation being attached to the word dog, but do account for\n",
    "capitalization. **"
   ]
  },
  {
   "cell_type": "code",
   "execution_count": 19,
   "id": "67aa8353",
   "metadata": {},
   "outputs": [],
   "source": [
    "def findDog(st):\n",
    "    return 'dog' in st.lower().split()"
   ]
  },
  {
   "cell_type": "code",
   "execution_count": 20,
   "id": "ec2569da",
   "metadata": {},
   "outputs": [
    {
     "data": {
      "text/plain": [
       "True"
      ]
     },
     "execution_count": 20,
     "metadata": {},
     "output_type": "execute_result"
    }
   ],
   "source": [
    "findDog('Is there a dog here?')"
   ]
  },
  {
   "cell_type": "markdown",
   "id": "7e0d6a91",
   "metadata": {},
   "source": [
    "** Create a function that counts the number of times the word \"dog\" occurs in a string. Again\n",
    "ignore edge cases. **"
   ]
  },
  {
   "cell_type": "code",
   "execution_count": 21,
   "id": "a1af3651",
   "metadata": {},
   "outputs": [],
   "source": [
    "def countDog(st):\n",
    "    count = 0\n",
    "    for word in st.lower().split():\n",
    "        if word == 'dog':\n",
    "            count += 1\n",
    "    return count"
   ]
  },
  {
   "cell_type": "code",
   "execution_count": 22,
   "id": "c304bee4",
   "metadata": {},
   "outputs": [
    {
     "data": {
      "text/plain": [
       "2"
      ]
     },
     "execution_count": 22,
     "metadata": {},
     "output_type": "execute_result"
    }
   ],
   "source": [
    "countDog('This dog runs faster than the other dog dude!')"
   ]
  },
  {
   "cell_type": "markdown",
   "id": "66173f71",
   "metadata": {},
   "source": [
    "# Problem"
   ]
  },
  {
   "cell_type": "markdown",
   "id": "d32ae254",
   "metadata": {},
   "source": [
    "*You are driving a little too fast, and a police officer stops you. Write a function\n",
    "to return one of 3\n",
    "possible results: \"No ticket\", \"Small ticket\", or \"Big Ticket\". If your speed is 60 or less, the result is\n",
    "\"No Ticket\". If speed is between 61 and 80 inclusive, the result is \"Small Ticket\". If speed is 81 or\n",
    "more, the result is \"Big Ticket\". Unless it is your birthday (encoded as a boolean value in the\n",
    "parameters of the function) -- on your birthday, your speed can be 5 higher in all cases. *"
   ]
  },
  {
   "cell_type": "code",
   "execution_count": 23,
   "id": "d4c786d0",
   "metadata": {},
   "outputs": [],
   "source": [
    "def caught_speeding(speed, is_birthday):\n",
    "    if is_birthday:\n",
    "        speeding = speed - 5\n",
    "    else:\n",
    "        speeding = speed\n",
    "    if speeding > 80:\n",
    "        return 'Big Ticket'\n",
    "    elif speeding > 60:\n",
    "        return 'Small Ticket'\n",
    "    else:\n",
    "        return 'No Ticket'"
   ]
  },
  {
   "cell_type": "code",
   "execution_count": 24,
   "id": "eaf87aab",
   "metadata": {},
   "outputs": [
    {
     "data": {
      "text/plain": [
       "'Small Ticket'"
      ]
     },
     "execution_count": 24,
     "metadata": {},
     "output_type": "execute_result"
    }
   ],
   "source": [
    "caught_speeding(81,True)"
   ]
  },
  {
   "cell_type": "code",
   "execution_count": 25,
   "id": "35fb1c78",
   "metadata": {},
   "outputs": [
    {
     "data": {
      "text/plain": [
       "'Big Ticket'"
      ]
     },
     "execution_count": 25,
     "metadata": {},
     "output_type": "execute_result"
    }
   ],
   "source": [
    "caught_speeding(81,False)"
   ]
  },
  {
   "cell_type": "markdown",
   "id": "472d66e0",
   "metadata": {},
   "source": [
    "Create an employee list with basic salary values(at least 5 values for 5 employees) and using a\n",
    "for loop retreive each employee salary and calculate total salary expenditure."
   ]
  },
  {
   "cell_type": "code",
   "execution_count": 26,
   "id": "b9f83364",
   "metadata": {},
   "outputs": [],
   "source": [
    "a = {'empid1':1,'empname1':'subhashini','basicpay1':2000,\n",
    "    'empid2':2,'empname2':'janani','basicpay2':1000,\n",
    "    'empid3':3,'empname3':'divyadharshini','basicpay3':3000,\n",
    "    'empid4':4,'empname4':'vismaya','basicpay4':2000,\n",
    "    'empid5':5,'empname5':'sjdv','basicpay5':2000}\n",
    "b ={'dptname':'IT','dptid':12707}\n",
    "c = {}\n",
    "total = 0"
   ]
  },
  {
   "cell_type": "markdown",
   "id": "6774b124",
   "metadata": {},
   "source": [
    "Create two dictionaries in Python:\n",
    "First one to contain fi elds as Empid, Empname, Basicpay\n",
    "Second dictionary to contain fi elds as DeptName, DeptId.\n",
    "Combine both dictionaries."
   ]
  },
  {
   "cell_type": "code",
   "execution_count": 27,
   "id": "072fac15",
   "metadata": {},
   "outputs": [
    {
     "name": "stdout",
     "output_type": "stream",
     "text": [
      "total salary expenditure 10000\n"
     ]
    }
   ],
   "source": [
    "for i in (a,b):\n",
    "    c.update(i)\n",
    "avalue = c.values()\n",
    "alist = list(avalue)\n",
    "for i in range(2,15,3):\n",
    "    total+=alist[i]\n",
    "print(\"total salary expenditure\", total)"
   ]
  },
  {
   "cell_type": "code",
   "execution_count": null,
   "id": "894db1b4",
   "metadata": {},
   "outputs": [],
   "source": []
  }
 ],
 "metadata": {
  "kernelspec": {
   "display_name": "Python 3 (ipykernel)",
   "language": "python",
   "name": "python3"
  },
  "language_info": {
   "codemirror_mode": {
    "name": "ipython",
    "version": 3
   },
   "file_extension": ".py",
   "mimetype": "text/x-python",
   "name": "python",
   "nbconvert_exporter": "python",
   "pygments_lexer": "ipython3",
   "version": "3.9.12"
  }
 },
 "nbformat": 4,
 "nbformat_minor": 5
}
